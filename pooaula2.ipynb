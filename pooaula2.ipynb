{
  "nbformat": 4,
  "nbformat_minor": 0,
  "metadata": {
    "colab": {
      "provenance": [],
      "authorship_tag": "ABX9TyN0ysLY7T/upev5tSXHGpQu",
      "include_colab_link": true
    },
    "kernelspec": {
      "name": "python3",
      "display_name": "Python 3"
    },
    "language_info": {
      "name": "python"
    }
  },
  "cells": [
    {
      "cell_type": "markdown",
      "metadata": {
        "id": "view-in-github",
        "colab_type": "text"
      },
      "source": [
        "<a href=\"https://colab.research.google.com/github/MatheusMesquitaS/POO-AULA2-/blob/main/pooaula2.ipynb\" target=\"_parent\"><img src=\"https://colab.research.google.com/assets/colab-badge.svg\" alt=\"Open In Colab\"/></a>"
      ]
    },
    {
      "cell_type": "code",
      "execution_count": 9,
      "metadata": {
        "id": "vzURM_ujeU0J",
        "colab": {
          "base_uri": "https://localhost:8080/"
        },
        "outputId": "5ac9473a-9d31-4d3d-d886-bd3a78307610"
      },
      "outputs": [
        {
          "output_type": "stream",
          "name": "stdout",
          "text": [
            "Digite o valor em Graus Fahrenheit: 212\n",
            "O valor de 212.0 ºF corresponde ao valor de: 100.0 ºC\n"
          ]
        }
      ],
      "source": [
        "f = float (input(\"Digite o valor em Graus Fahrenheit: \"))\n",
        "\n",
        "c = (5/9)*(f-32)\n",
        "\n",
        "print(f\"O valor de {f} ºF corresponde ao valor de: {c} ºC\")\n",
        "\n",
        "\n"
      ]
    }
  ]
}